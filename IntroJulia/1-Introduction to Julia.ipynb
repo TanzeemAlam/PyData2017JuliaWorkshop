{
 "cells": [
  {
   "cell_type": "markdown",
   "metadata": {},
   "source": [
    "# Introduction to Julia"
   ]
  },
  {
   "cell_type": "markdown",
   "metadata": {},
   "source": [
    "* New programming langauge\n",
    "* JIT compiler approach enables speeds comparable to C/C++\n",
    "* Simple syntax as MATLAB or Python\n",
    "* Open Source\n",
    "* Expanding community"
   ]
  },
  {
   "cell_type": "markdown",
   "metadata": {},
   "source": [
    "## Dynamically typed"
   ]
  },
  {
   "cell_type": "code",
   "execution_count": 11,
   "metadata": {},
   "outputs": [
    {
     "data": {
      "text/plain": [
       "2"
      ]
     },
     "execution_count": 11,
     "metadata": {},
     "output_type": "execute_result"
    }
   ],
   "source": [
    "a=2"
   ]
  },
  {
   "cell_type": "code",
   "execution_count": 12,
   "metadata": {},
   "outputs": [
    {
     "data": {
      "text/plain": [
       "Int64"
      ]
     },
     "execution_count": 12,
     "metadata": {},
     "output_type": "execute_result"
    }
   ],
   "source": [
    "typeof(a)"
   ]
  },
  {
   "cell_type": "code",
   "execution_count": 13,
   "metadata": {},
   "outputs": [
    {
     "data": {
      "text/plain": [
       "2.0"
      ]
     },
     "execution_count": 13,
     "metadata": {},
     "output_type": "execute_result"
    }
   ],
   "source": [
    "a=2.0"
   ]
  },
  {
   "cell_type": "code",
   "execution_count": 14,
   "metadata": {},
   "outputs": [
    {
     "data": {
      "text/plain": [
       "Float64"
      ]
     },
     "execution_count": 14,
     "metadata": {},
     "output_type": "execute_result"
    }
   ],
   "source": [
    "typeof(a)"
   ]
  },
  {
   "cell_type": "code",
   "execution_count": 15,
   "metadata": {},
   "outputs": [
    {
     "data": {
      "text/plain": [
       "'A': ASCII/Unicode U+0041 (category Lu: Letter, uppercase)"
      ]
     },
     "execution_count": 15,
     "metadata": {},
     "output_type": "execute_result"
    }
   ],
   "source": [
    "a = 'A'"
   ]
  },
  {
   "cell_type": "code",
   "execution_count": 16,
   "metadata": {},
   "outputs": [
    {
     "data": {
      "text/plain": [
       "'π': Unicode U+03c0 (category Ll: Letter, lowercase)"
      ]
     },
     "execution_count": 16,
     "metadata": {},
     "output_type": "execute_result"
    }
   ],
   "source": [
    "a = 'π' # Can use Unicode strings by typing LaTeX commands and pressing tab to show Unicode Character"
   ]
  },
  {
   "cell_type": "code",
   "execution_count": 17,
   "metadata": {},
   "outputs": [
    {
     "data": {
      "text/plain": [
       "'α': Unicode U+03b1 (category Ll: Letter, lowercase)"
      ]
     },
     "execution_count": 17,
     "metadata": {},
     "output_type": "execute_result"
    }
   ],
   "source": [
    "a = 'α'"
   ]
  },
  {
   "cell_type": "code",
   "execution_count": 18,
   "metadata": {},
   "outputs": [
    {
     "data": {
      "text/plain": [
       "2.5"
      ]
     },
     "execution_count": 18,
     "metadata": {},
     "output_type": "execute_result"
    }
   ],
   "source": [
    "α = 2.5"
   ]
  },
  {
   "cell_type": "code",
   "execution_count": 19,
   "metadata": {},
   "outputs": [
    {
     "data": {
      "text/plain": [
       "2.5"
      ]
     },
     "execution_count": 19,
     "metadata": {},
     "output_type": "execute_result"
    }
   ],
   "source": [
    "α"
   ]
  },
  {
   "cell_type": "code",
   "execution_count": 21,
   "metadata": {},
   "outputs": [
    {
     "data": {
      "text/plain": [
       "31.25"
      ]
     },
     "execution_count": 21,
     "metadata": {},
     "output_type": "execute_result"
    }
   ],
   "source": [
    "2α^3 # multiplication operator * is optional while defining an expression with integer"
   ]
  },
  {
   "cell_type": "code",
   "execution_count": 24,
   "metadata": {},
   "outputs": [
    {
     "data": {
      "text/plain": [
       "3-element Array{Int64,1}:\n",
       "  3\n",
       "  6\n",
       " 13"
      ]
     },
     "execution_count": 24,
     "metadata": {},
     "output_type": "execute_result"
    }
   ],
   "source": [
    "γ = [1,2,3]\n",
    "y =2γ.^2-3γ+4 # Ease of writing mathematical equations"
   ]
  },
  {
   "cell_type": "markdown",
   "metadata": {},
   "source": [
    "## Speed"
   ]
  },
  {
   "cell_type": "code",
   "execution_count": 26,
   "metadata": {},
   "outputs": [
    {
     "name": "stdout",
     "output_type": "stream",
     "text": [
      "  0.055167 seconds (5.88 k allocations: 458.337 KiB)\n"
     ]
    },
    {
     "data": {
      "text/plain": [
       "100×100 Array{Float64,2}:\n",
       " 0.00188045   0.225805     …  0.619993     0.285872    0.5198    \n",
       " 0.316033     0.000541004     0.593796     0.545488    0.00379472\n",
       " 0.053603     0.00439457      0.984505     0.397178    0.0307267 \n",
       " 0.172153     0.348178        0.0115334    0.690836    0.0275552 \n",
       " 0.368133     0.513926        0.381644     0.594918    0.00196679\n",
       " 0.0794556    0.110985     …  0.835468     0.595465    0.101524  \n",
       " 0.698584     0.00893048      0.853899     0.926821    0.0263089 \n",
       " 0.931316     0.0986635       0.718438     0.204082    0.0072935 \n",
       " 0.0819858    0.300318        0.184774     0.0274983   1.36265e-5\n",
       " 0.452519     0.102613        0.020593     0.19912     0.455594  \n",
       " 0.885772     0.0349913    …  0.16708      0.932061    0.0217427 \n",
       " 0.000434927  0.405775        0.000197776  0.238833    0.199916  \n",
       " 0.239529     0.2286          0.431864     1.67132e-5  0.759433  \n",
       " ⋮                         ⋱                                     \n",
       " 0.00920509   0.00165733      0.162316     0.0667041   0.572034  \n",
       " 0.195614     0.0194541       0.0496879    0.711948    0.00344208\n",
       " 0.0013298    0.748069     …  0.00479031   0.644739    0.0104037 \n",
       " 0.500017     0.299969        0.0779722    0.443464    0.0579822 \n",
       " 0.00290287   0.122939        0.0979876    0.799335    0.276257  \n",
       " 0.833444     0.302184        0.224556     0.427751    0.399359  \n",
       " 0.782975     0.738472        0.757575     0.60942     0.556537  \n",
       " 0.19225      0.00170083   …  0.494155     0.237672    0.484444  \n",
       " 0.490778     0.133721        2.46752e-5   0.187855    0.309784  \n",
       " 0.0106365    0.313551        0.498047     0.697879    0.306055  \n",
       " 0.48057      0.353172        0.43599      0.289802    0.0769098 \n",
       " 0.851327     0.12894         0.293041     0.0107452   0.165717  "
      ]
     },
     "execution_count": 26,
     "metadata": {},
     "output_type": "execute_result"
    }
   ],
   "source": [
    "@time (rand(100,100).^2.5)"
   ]
  },
  {
   "cell_type": "code",
   "execution_count": null,
   "metadata": {
    "collapsed": true
   },
   "outputs": [],
   "source": []
  }
 ],
 "metadata": {
  "kernelspec": {
   "display_name": "Julia 0.6.0",
   "language": "julia",
   "name": "julia-0.6"
  },
  "language_info": {
   "file_extension": ".jl",
   "mimetype": "application/julia",
   "name": "julia",
   "version": "0.6.0"
  }
 },
 "nbformat": 4,
 "nbformat_minor": 2
}
